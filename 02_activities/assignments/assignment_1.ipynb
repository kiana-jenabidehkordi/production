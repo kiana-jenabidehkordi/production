{
 "cells": [
  {
   "cell_type": "markdown",
   "metadata": {},
   "source": [
    "# Working with parquet files\n",
    "\n",
    "## Objective\n",
    "\n",
    "+ In this assignment, we will use the data downloaded with the module `data_manager` to create features.\n",
    "\n",
    "(11 pts total)\n",
    "\n",
    "## Prerequisites\n",
    "\n",
    "+ This notebook assumes that price data is available to you in the environment variable `PRICE_DATA`. If you have not done so, then execute the notebook `01_materials/labs/2_data_engineering.ipynb` to create this data set.\n"
   ]
  },
  {
   "cell_type": "markdown",
   "metadata": {},
   "source": [
    "+ Load the environment variables using dotenv. (1 pt)"
   ]
  },
  {
   "cell_type": "code",
   "execution_count": 1,
   "metadata": {},
   "outputs": [],
   "source": [
    "# Write your code below.\n",
    "\n",
    "import pandas as pd\n",
    "import os\n",
    "import sys\n",
    "from glob import glob\n",
    "import dask.dataframe as dd\n",
    "\n",
    "\n",
    "sys.path.append(os.getenv('SRC_DIR'))\n",
    "sys.path.append('../../05_src')\n",
    "\n",
    "from utils.logger import get_logger\n",
    "_logs = get_logger(__name__)\n"
   ]
  },
  {
   "cell_type": "markdown",
   "metadata": {},
   "source": [
    "+ Load the environment variable `PRICE_DATA`.\n",
    "+ Use [glob](https://docs.python.org/3/library/glob.html) to find the path of all parquet files in the directory `PRICE_DATA`.\n",
    "\n",
    "(1pt)"
   ]
  },
  {
   "cell_type": "code",
   "execution_count": 2,
   "metadata": {},
   "outputs": [
    {
     "name": "stderr",
     "output_type": "stream",
     "text": [
      "2025-06-08 13:32:47,615, 65293645.py, 10, INFO, Reading file: ../../05_src/data/prices_csv/stocks/HCM.csv\n",
      "2025-06-08 13:32:47,642, 65293645.py, 10, INFO, Reading file: ../../05_src/data/prices_csv/stocks/ATHM.csv\n",
      "2025-06-08 13:32:47,648, 65293645.py, 10, INFO, Reading file: ../../05_src/data/prices_csv/stocks/RILYP.csv\n",
      "2025-06-08 13:32:47,651, 65293645.py, 10, INFO, Reading file: ../../05_src/data/prices_csv/stocks/ALDX.csv\n",
      "2025-06-08 13:32:47,654, 65293645.py, 10, INFO, Reading file: ../../05_src/data/prices_csv/stocks/JHG.csv\n",
      "2025-06-08 13:32:47,657, 65293645.py, 10, INFO, Reading file: ../../05_src/data/prices_csv/stocks/CHRS.csv\n",
      "2025-06-08 13:32:47,673, 65293645.py, 10, INFO, Reading file: ../../05_src/data/prices_csv/stocks/BKTI.csv\n",
      "2025-06-08 13:32:47,700, 65293645.py, 10, INFO, Reading file: ../../05_src/data/prices_csv/stocks/REFR.csv\n",
      "2025-06-08 13:32:47,706, 65293645.py, 10, INFO, Reading file: ../../05_src/data/prices_csv/stocks/KEN.csv\n",
      "2025-06-08 13:32:47,711, 65293645.py, 10, INFO, Reading file: ../../05_src/data/prices_csv/stocks/MDRRP.csv\n",
      "2025-06-08 13:32:47,713, 65293645.py, 10, INFO, Reading file: ../../05_src/data/prices_csv/stocks/GRF.csv\n",
      "2025-06-08 13:32:47,718, 65293645.py, 10, INFO, Reading file: ../../05_src/data/prices_csv/stocks/KRC.csv\n",
      "2025-06-08 13:32:47,724, 65293645.py, 10, INFO, Reading file: ../../05_src/data/prices_csv/stocks/MICT.csv\n",
      "2025-06-08 13:32:47,727, 65293645.py, 10, INFO, Reading file: ../../05_src/data/prices_csv/stocks/AMPY.csv\n",
      "2025-06-08 13:32:47,731, 65293645.py, 10, INFO, Reading file: ../../05_src/data/prices_csv/stocks/A.csv\n",
      "2025-06-08 13:32:47,737, 65293645.py, 10, INFO, Reading file: ../../05_src/data/prices_csv/stocks/WRLSU.csv\n",
      "2025-06-08 13:32:47,739, 65293645.py, 10, INFO, Reading file: ../../05_src/data/prices_csv/stocks/PNR.csv\n",
      "2025-06-08 13:32:47,750, 65293645.py, 10, INFO, Reading file: ../../05_src/data/prices_csv/stocks/TERP.csv\n",
      "2025-06-08 13:32:47,753, 65293645.py, 10, INFO, Reading file: ../../05_src/data/prices_csv/stocks/TMSR.csv\n",
      "2025-06-08 13:32:47,756, 65293645.py, 10, INFO, Reading file: ../../05_src/data/prices_csv/stocks/TDJ.csv\n",
      "2025-06-08 13:32:47,759, 65293645.py, 10, INFO, Reading file: ../../05_src/data/prices_csv/stocks/CIK.csv\n",
      "2025-06-08 13:32:47,768, 65293645.py, 10, INFO, Reading file: ../../05_src/data/prices_csv/stocks/SMBC.csv\n",
      "2025-06-08 13:32:47,775, 65293645.py, 10, INFO, Reading file: ../../05_src/data/prices_csv/stocks/CNSP.csv\n",
      "2025-06-08 13:32:47,777, 65293645.py, 10, INFO, Reading file: ../../05_src/data/prices_csv/stocks/BLK.csv\n",
      "2025-06-08 13:32:47,783, 65293645.py, 10, INFO, Reading file: ../../05_src/data/prices_csv/stocks/CLNC.csv\n",
      "2025-06-08 13:32:47,785, 65293645.py, 10, INFO, Reading file: ../../05_src/data/prices_csv/stocks/AOSL.csv\n",
      "2025-06-08 13:32:47,789, 65293645.py, 10, INFO, Reading file: ../../05_src/data/prices_csv/stocks/LYV.csv\n",
      "2025-06-08 13:32:47,794, 65293645.py, 10, INFO, Reading file: ../../05_src/data/prices_csv/stocks/IX.csv\n",
      "2025-06-08 13:32:47,802, 65293645.py, 10, INFO, Reading file: ../../05_src/data/prices_csv/stocks/AWRE.csv\n",
      "2025-06-08 13:32:47,808, 65293645.py, 10, INFO, Reading file: ../../05_src/data/prices_csv/stocks/KNX.csv\n",
      "2025-06-08 13:32:47,815, 65293645.py, 10, INFO, Reading file: ../../05_src/data/prices_csv/stocks/TRXC.csv\n",
      "2025-06-08 13:32:47,822, 65293645.py, 10, INFO, Reading file: ../../05_src/data/prices_csv/stocks/CVCY.csv\n",
      "2025-06-08 13:32:47,829, 65293645.py, 10, INFO, Reading file: ../../05_src/data/prices_csv/stocks/UVE.csv\n",
      "2025-06-08 13:32:47,834, 65293645.py, 10, INFO, Reading file: ../../05_src/data/prices_csv/stocks/HCKT.csv\n",
      "2025-06-08 13:32:47,840, 65293645.py, 10, INFO, Reading file: ../../05_src/data/prices_csv/stocks/TFSL.csv\n",
      "2025-06-08 13:32:47,846, 65293645.py, 10, INFO, Reading file: ../../05_src/data/prices_csv/stocks/ACB.csv\n",
      "2025-06-08 13:32:47,853, 65293645.py, 10, INFO, Reading file: ../../05_src/data/prices_csv/stocks/AXP.csv\n",
      "2025-06-08 13:32:47,865, 65293645.py, 10, INFO, Reading file: ../../05_src/data/prices_csv/stocks/GLG.csv\n",
      "2025-06-08 13:32:47,868, 65293645.py, 10, INFO, Reading file: ../../05_src/data/prices_csv/stocks/MFO.csv\n",
      "2025-06-08 13:32:47,872, 65293645.py, 10, INFO, Reading file: ../../05_src/data/prices_csv/stocks/PCB.csv\n",
      "2025-06-08 13:32:47,875, 65293645.py, 10, INFO, Reading file: ../../05_src/data/prices_csv/stocks/IPDN.csv\n",
      "2025-06-08 13:32:47,879, 65293645.py, 10, INFO, Reading file: ../../05_src/data/prices_csv/stocks/DTW.csv\n",
      "2025-06-08 13:32:47,882, 65293645.py, 10, INFO, Reading file: ../../05_src/data/prices_csv/stocks/IQV.csv\n",
      "2025-06-08 13:32:47,884, 65293645.py, 10, INFO, Reading file: ../../05_src/data/prices_csv/stocks/EVRI.csv\n",
      "2025-06-08 13:32:47,889, 65293645.py, 10, INFO, Reading file: ../../05_src/data/prices_csv/stocks/LIVE.csv\n",
      "2025-06-08 13:32:47,894, 65293645.py, 10, INFO, Reading file: ../../05_src/data/prices_csv/stocks/KZR.csv\n",
      "2025-06-08 13:32:47,897, 65293645.py, 10, INFO, Reading file: ../../05_src/data/prices_csv/stocks/SO.csv\n",
      "2025-06-08 13:32:47,906, 65293645.py, 10, INFO, Reading file: ../../05_src/data/prices_csv/stocks/INFY.csv\n",
      "2025-06-08 13:32:47,912, 65293645.py, 10, INFO, Reading file: ../../05_src/data/prices_csv/stocks/BSE.csv\n",
      "2025-06-08 13:32:47,918, 65293645.py, 10, INFO, Reading file: ../../05_src/data/prices_csv/stocks/PSN.csv\n",
      "2025-06-08 13:32:47,921, 65293645.py, 10, INFO, Reading file: ../../05_src/data/prices_csv/stocks/TNAV.csv\n",
      "2025-06-08 13:32:47,925, 65293645.py, 10, INFO, Reading file: ../../05_src/data/prices_csv/stocks/APTX.csv\n",
      "2025-06-08 13:32:47,927, 65293645.py, 10, INFO, Reading file: ../../05_src/data/prices_csv/stocks/LAZY.csv\n",
      "2025-06-08 13:32:47,929, 65293645.py, 10, INFO, Reading file: ../../05_src/data/prices_csv/stocks/DK.csv\n",
      "2025-06-08 13:32:47,934, 65293645.py, 10, INFO, Reading file: ../../05_src/data/prices_csv/stocks/ZEUS.csv\n",
      "2025-06-08 13:32:47,940, 65293645.py, 10, INFO, Reading file: ../../05_src/data/prices_csv/stocks/IRBT.csv\n",
      "2025-06-08 13:32:47,946, 65293645.py, 10, INFO, Reading file: ../../05_src/data/prices_csv/stocks/AMAT.csv\n",
      "2025-06-08 13:32:47,956, 65293645.py, 10, INFO, Reading file: ../../05_src/data/prices_csv/stocks/PSB.csv\n",
      "2025-06-08 13:32:47,964, 65293645.py, 10, INFO, Reading file: ../../05_src/data/prices_csv/stocks/CTSO.csv\n",
      "2025-06-08 13:32:47,969, 65293645.py, 10, INFO, Reading file: ../../05_src/data/prices_csv/stocks/UEC.csv\n"
     ]
    }
   ],
   "source": [
    "import random\n",
    "\n",
    "stock_files = glob(os.path.join(os.getenv('SRC_DIR'), \"data/prices_csv/stocks/*.csv\"))\n",
    "\n",
    "random.seed(42)\n",
    "stock_files = random.sample(stock_files, 60)\n",
    "\n",
    "dt_list = []\n",
    "for s_file in stock_files:\n",
    "    _logs.info(f\"Reading file: {s_file}\")\n",
    "    dt = pd.read_csv(s_file).assign(\n",
    "        source = os.path.basename(s_file),\n",
    "        ticker = os.path.basename(s_file).replace('.csv', ''),\n",
    "        Date = lambda x: pd.to_datetime(x['Date']),\n",
    "    )\n",
    "    dt_list.append(dt)\n",
    "stock_prices = pd.concat(dt_list, axis = 0, ignore_index = True)"
   ]
  },
  {
   "cell_type": "markdown",
   "metadata": {},
   "source": [
    "For each ticker and using Dask, do the following:\n",
    "\n",
    "+ Add lags for variables Close and Adj_Close.\n",
    "+ Add returns based on Close:\n",
    "    \n",
    "    - `returns`: (Close / Close_lag_1) - 1\n",
    "\n",
    "+ Add the following range: \n",
    "\n",
    "    - `hi_lo_range`: this is the day's High minus Low.\n",
    "\n",
    "+ Assign the result to `dd_feat`.\n",
    "\n",
    "(4 pt)"
   ]
  },
  {
   "cell_type": "code",
   "execution_count": 3,
   "metadata": {},
   "outputs": [],
   "source": [
    "PRICE_DATA = os.getenv(\"PRICE_DATA\")"
   ]
  },
  {
   "cell_type": "code",
   "execution_count": 4,
   "metadata": {},
   "outputs": [
    {
     "name": "stderr",
     "output_type": "stream",
     "text": [
      "/var/folders/7j/sh_gsz3s72b0xzcpbczx9l440000gn/T/ipykernel_77348/3102904485.py:6: UserWarning: `meta` is not specified, inferred from partial data.\n",
      "Please provide `meta` if the result is unexpected.\n",
      "  Before: .shift(func)\n",
      "  After:  .shift(func, meta={'x': 'f8', 'y': 'f8'}) for dataframe result\n",
      "  or:     .shift(func, meta=('x', 'f8'))            for series result\n",
      "\n",
      "  Close_lag_1 = dd_px.groupby('ticker')['Close'].shift(1),\n",
      "/var/folders/7j/sh_gsz3s72b0xzcpbczx9l440000gn/T/ipykernel_77348/3102904485.py:7: UserWarning: `meta` is not specified, inferred from partial data.\n",
      "Please provide `meta` if the result is unexpected.\n",
      "  Before: .shift(func)\n",
      "  After:  .shift(func, meta={'x': 'f8', 'y': 'f8'}) for dataframe result\n",
      "  or:     .shift(func, meta=('x', 'f8'))            for series result\n",
      "\n",
      "  Adj_Close_lag_1 = dd_px.groupby('ticker')['Adj Close'].shift(1),\n",
      "/var/folders/7j/sh_gsz3s72b0xzcpbczx9l440000gn/T/ipykernel_77348/3102904485.py:15: UserWarning: `meta` is not specified, inferred from partial data.\n",
      "Please provide `meta` if the result is unexpected.\n",
      "  Before: .shift(func)\n",
      "  After:  .shift(func, meta={'x': 'f8', 'y': 'f8'}) for dataframe result\n",
      "  or:     .shift(func, meta=('x', 'f8'))            for series result\n",
      "\n",
      "  Close_lag_1 = dd_px.groupby('ticker')['Close'].shift(1),\n",
      "/var/folders/7j/sh_gsz3s72b0xzcpbczx9l440000gn/T/ipykernel_77348/3102904485.py:16: UserWarning: `meta` is not specified, inferred from partial data.\n",
      "Please provide `meta` if the result is unexpected.\n",
      "  Before: .shift(func)\n",
      "  After:  .shift(func, meta={'x': 'f8', 'y': 'f8'}) for dataframe result\n",
      "  or:     .shift(func, meta=('x', 'f8'))            for series result\n",
      "\n",
      "  Adj_Close_lag_1 = dd_px.groupby('ticker')['Adj Close'].shift(1),\n"
     ]
    }
   ],
   "source": [
    "#Add lags for variables Close and Adj_Close.\n",
    "parquet_files = glob(os.path.join(PRICE_DATA, \"**/*.parquet\"), recursive = True)\n",
    "dd_px = dd.read_parquet(parquet_files).set_index(\"ticker\")\n",
    "\n",
    "dd_shift = dd_px.assign(\n",
    "    Close_lag_1 = dd_px.groupby('ticker')['Close'].shift(1),\n",
    "    Adj_Close_lag_1 = dd_px.groupby('ticker')['Adj Close'].shift(1),\n",
    "    \n",
    "    returns = lambda x: (x['Close'] / x['Close_lag_1']) - 1,\n",
    "    hi_lo_range = dd_px['High'] - dd_px['Low'],\n",
    "    \n",
    "    \n",
    ")\n",
    "dd_feat = dd_px.assign(\n",
    "    Close_lag_1 = dd_px.groupby('ticker')['Close'].shift(1),\n",
    "    Adj_Close_lag_1 = dd_px.groupby('ticker')['Adj Close'].shift(1),\n",
    "    # Add the returns calculation\n",
    "    returns = lambda x: (x['Close'] / x['Close_lag_1']) - 1,\n",
    "    # Add the hi_lo_range\n",
    "    hi_lo_range = dd_px['High'] - dd_px['Low']\n",
    ")\n",
    "\n",
    "\n"
   ]
  },
  {
   "cell_type": "code",
   "execution_count": 5,
   "metadata": {},
   "outputs": [
    {
     "name": "stdout",
     "output_type": "stream",
     "text": [
      "Date                datetime64[ns]\n",
      "Open                       float64\n",
      "High                       float64\n",
      "Low                        float64\n",
      "Close                      float64\n",
      "Adj Close                  float64\n",
      "Volume                     float64\n",
      "source             string[pyarrow]\n",
      "Year                         int32\n",
      "Close_lag_1                float64\n",
      "Adj_Close_lag_1            float64\n",
      "returns                    float64\n",
      "hi_lo_range                float64\n",
      "dtype: object\n"
     ]
    }
   ],
   "source": [
    "print(dd_feat.dtypes)"
   ]
  },
  {
   "cell_type": "markdown",
   "metadata": {},
   "source": [
    "+ Convert the Dask data frame to a pandas data frame. \n",
    "+ Add a new feature containing the moving average of `returns` using a window of 10 days. There are several ways to solve this task, a simple one uses `.rolling(10).mean()`.\n",
    "\n",
    "(3 pt)"
   ]
  },
  {
   "cell_type": "code",
   "execution_count": 6,
   "metadata": {},
   "outputs": [],
   "source": [
    "# Write your code below.\n",
    "\n",
    "df_feat = dd_feat.compute()"
   ]
  },
  {
   "cell_type": "code",
   "execution_count": 7,
   "metadata": {},
   "outputs": [
    {
     "name": "stdout",
     "output_type": "stream",
     "text": [
      "Type: <class 'pandas.core.frame.DataFrame'>\n",
      "Shape: (230273, 13)\n",
      "Columns: ['Date', 'Open', 'High', 'Low', 'Close', 'Adj Close', 'Volume', 'source', 'Year', 'Close_lag_1', 'Adj_Close_lag_1', 'returns', 'hi_lo_range']\n"
     ]
    }
   ],
   "source": [
    "print(f\"Type: {type(df_feat)}\")\n",
    "print(f\"Shape: {df_feat.shape}\")\n",
    "print(f\"Columns: {df_feat.columns.tolist()}\")"
   ]
  },
  {
   "cell_type": "code",
   "execution_count": 8,
   "metadata": {},
   "outputs": [],
   "source": [
    "# Add a new feature containing the moving average of returns using a window of 10 days\n",
    "df_feat['returns_ma_10'] = df_feat.groupby('ticker')['returns'].rolling(window=10).mean().reset_index(0, drop=True)"
   ]
  },
  {
   "cell_type": "markdown",
   "metadata": {},
   "source": [
    "Please comment:\n",
    "\n",
    "+ Was it necessary to convert to pandas to calculate the moving average return?\n",
    "+ Would it have been better to do it in Dask? Why?\n",
    "\n",
    "(1 pt)"
   ]
  },
  {
   "cell_type": "markdown",
   "metadata": {},
   "source": [
    "No, it was not necessary to use pandas. We could use Dask to do it, and since our DataFrame was already a Dask DataFrame, it makes more sense to apply the changes to the Dask DataFrame rather than convert it to pandas. For large databases, it is better to use Dask, but our dataset here is not that large and we can technically do it in pandas. However, since it is already in Dask, it just makes sense not to convert it and do it in Dask instead."
   ]
  },
  {
   "cell_type": "markdown",
   "metadata": {},
   "source": [
    "## Criteria\n",
    "\n",
    "The [rubric](./assignment_1_rubric_clean.xlsx) contains the criteria for grading."
   ]
  },
  {
   "cell_type": "markdown",
   "metadata": {},
   "source": [
    "## Submission Information\n",
    "\n",
    "🚨 **Please review our [Assignment Submission Guide](https://github.com/UofT-DSI/onboarding/blob/main/onboarding_documents/submissions.md)** 🚨 for detailed instructions on how to format, branch, and submit your work. Following these guidelines is crucial for your submissions to be evaluated correctly.\n",
    "\n",
    "### Submission Parameters:\n",
    "* Submission Due Date: `HH:MM AM/PM - DD/MM/YYYY`\n",
    "* The branch name for your repo should be: `assignment-1`\n",
    "* What to submit for this assignment:\n",
    "    * This Jupyter Notebook (assignment_1.ipynb) should be populated and should be the only change in your pull request.\n",
    "* What the pull request link should look like for this assignment: `https://github.com/<your_github_username>/production/pull/<pr_id>`\n",
    "    * Open a private window in your browser. Copy and paste the link to your pull request into the address bar. Make sure you can see your pull request properly. This helps the technical facilitator and learning support staff review your submission easily.\n",
    "\n",
    "Checklist:\n",
    "- [ ] Created a branch with the correct naming convention.\n",
    "- [ ] Ensured that the repository is public.\n",
    "- [ ] Reviewed the PR description guidelines and adhered to them.\n",
    "- [ ] Verify that the link is accessible in a private browser window.\n",
    "\n",
    "If you encounter any difficulties or have questions, please don't hesitate to reach out to our team via our Slack at `#cohort-3-help`. Our Technical Facilitators and Learning Support staff are here to help you navigate any challenges."
   ]
  }
 ],
 "metadata": {
  "kernelspec": {
   "display_name": "dsi_participant",
   "language": "python",
   "name": "python3"
  },
  "language_info": {
   "codemirror_mode": {
    "name": "ipython",
    "version": 3
   },
   "file_extension": ".py",
   "mimetype": "text/x-python",
   "name": "python",
   "nbconvert_exporter": "python",
   "pygments_lexer": "ipython3",
   "version": "3.12.9"
  }
 },
 "nbformat": 4,
 "nbformat_minor": 2
}
